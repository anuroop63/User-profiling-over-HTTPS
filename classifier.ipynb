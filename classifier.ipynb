{
 "cells": [
  {
   "cell_type": "code",
   "execution_count": 184,
   "metadata": {},
   "outputs": [],
   "source": [
    "from sklearn import svm\n",
    "import numpy as np\n",
    "import matplotlib.pyplot as plt\n",
    "from matplotlib.colors import Normalize\n",
    "\n",
    "from sklearn.svm import SVC\n",
    "from sklearn.preprocessing import StandardScaler\n",
    "from sklearn.datasets import load_iris\n",
    "from sklearn.model_selection import StratifiedShuffleSplit\n",
    "from sklearn.model_selection import GridSearchCV\n",
    "from sklearn import tree"
   ]
  },
  {
   "cell_type": "code",
   "execution_count": 185,
   "metadata": {},
   "outputs": [],
   "source": [
    "import csv\n",
    "from sklearn.preprocessing import StandardScaler\n",
    "X,Y = [], []\n",
    "with open('/Users/ratan/PycharmProjects/feature_all.csv', newline='\\n') as csvfile:\n",
    "  reader = csv.reader(csvfile, delimiter=' ')\n",
    "  for row in reader:\n",
    "    label, features = int(row[0]), [float(feature.split(':')[1]) for feature in row[1:-2]]\n",
    "    X.append(features)\n",
    "    Y.append(label)"
   ]
  },
  {
   "cell_type": "code",
   "execution_count": 186,
   "metadata": {},
   "outputs": [],
   "source": [
    "C_2d_range = [1e-3,1e-2,1e-1,1,1e1, 1e2]\n",
    "gamma_2d_range =[1e-3,1e-2,1e-1,1,1e1]\n",
    "classifiers = []\n",
    "for C in C_2d_range:\n",
    "    for gamma in gamma_2d_range:\n",
    "        clf = SVC(C=C, gamma=gamma)\n",
    "        clf.fit(X, Y)\n",
    "        classifiers.append((C, gamma, clf))"
   ]
  },
  {
   "cell_type": "code",
   "execution_count": 187,
   "metadata": {},
   "outputs": [],
   "source": [
    "# clf = svm.SVC(gamma='scale', decision_function_shape='ovo')\n",
    "# clf = svm.SVC(C=1000, gamma=0.01, decision_function_shape='ovo')\n",
    "#  clf = tree.DecisionTreeClassifier()"
   ]
  },
  {
   "cell_type": "code",
   "execution_count": 188,
   "metadata": {},
   "outputs": [],
   "source": [
    "# clf.fit(X, Y)"
   ]
  },
  {
   "cell_type": "code",
   "execution_count": 189,
   "metadata": {},
   "outputs": [
    {
     "name": "stdout",
     "output_type": "stream",
     "text": [
      "26\n"
     ]
    }
   ],
   "source": [
    "M,N = [], []\n",
    "with open('/Users/ratan/PycharmProjects/feature_all_test.csv', newline='\\n') as csvfile:\n",
    "  reader = csv.reader(csvfile, delimiter=' ')\n",
    "  for row in reader:\n",
    "    label, features = int(row[0]), [float(feature.split(':')[1]) for feature in row[1:-2]]\n",
    "    M.append(features)\n",
    "    N.append(label)\n",
    "print(len(M))"
   ]
  },
  {
   "cell_type": "code",
   "execution_count": 190,
   "metadata": {},
   "outputs": [
    {
     "name": "stdout",
     "output_type": "stream",
     "text": [
      "[0.0, 0.0, 0.0, 0.0, 0.0, 0.0, 0.0, 0.0, 0.0, 0.0, 0.0, 0.0, 0.0, 0.0, 0.0, 0.23076923076923078, 0.23076923076923078, 0.23076923076923078, 0.23076923076923078, 0.23076923076923078, 0.23076923076923078, 0.23076923076923078, 0.23076923076923078, 0.23076923076923078, 0.23076923076923078, 0.23076923076923078, 0.23076923076923078, 0.23076923076923078, 0.23076923076923078, 0.23076923076923078]\n",
      "[0.001, 0.01, 0.1, 1, 10.0, 0.001, 0.01, 0.1, 1, 10.0, 0.001, 0.01, 0.1, 1, 10.0, 0.001, 0.01, 0.1, 1, 10.0, 0.001, 0.01, 0.1, 1, 10.0, 0.001, 0.01, 0.1, 1, 10.0]\n",
      "[0.001, 0.001, 0.001, 0.001, 0.001, 0.01, 0.01, 0.01, 0.01, 0.01, 0.1, 0.1, 0.1, 0.1, 0.1, 1, 1, 1, 1, 1, 10.0, 10.0, 10.0, 10.0, 10.0, 100.0, 100.0, 100.0, 100.0, 100.0]\n"
     ]
    }
   ],
   "source": [
    "predictscore=[]\n",
    "gammas = []\n",
    "cs=[]\n",
    "for (k, (C, gamma, clf)) in enumerate(classifiers):\n",
    "    predictscore.append(clf.score(M,N))\n",
    "    gammas.append(gamma)\n",
    "    cs.append(C)\n",
    "\n",
    "print(predictscore)\n",
    "print(gammas)\n",
    "print(cs)\n"
   ]
  },
  {
   "cell_type": "code",
   "execution_count": 191,
   "metadata": {},
   "outputs": [
    {
     "data": {
      "image/png": "[encoded data removed]",
      "text/plain": [
       "<Figure size 432x288 with 2 Axes>"
      ]
     },
     "metadata": {
      "needs_background": "light"
     },
     "output_type": "display_data"
    }
   ],
   "source": [
    "import pandas as pd\n",
    "import seaborn as sns\n",
    "import matplotlib.pyplot as plt\n",
    "\n",
    "data = pd.DataFrame(data={'gamma':gammas, 'C':cs, 'score':predictscore})\n",
    "data = data.pivot(index='gamma', columns='C', values='score')\n",
    "sns.heatmap(data)\n",
    "plt.title('accuracy heatmap - open-world')\n",
    "plt.show()"
   ]
  },
  {
   "cell_type": "code",
   "execution_count": 151,
   "metadata": {},
   "outputs": [
    {
     "data": {
      "text/plain": [
       "0.72"
      ]
     },
     "execution_count": 151,
     "metadata": {},
     "output_type": "execute_result"
    }
   ],
   "source": [
    "clf.score(M,N)"
   ]
  },
  {
   "cell_type": "code",
   "execution_count": 140,
   "metadata": {},
   "outputs": [
    {
     "name": "stdout",
     "output_type": "stream",
     "text": [
      "[88] 86\n",
      "[67] 67\n",
      "[16] 16\n",
      "[40] 40\n",
      "[72] 72\n",
      "[42] 42\n",
      "[85] 85\n",
      "[10] 10\n",
      "[88] 72\n",
      "[46] 46\n",
      "[51] 51\n",
      "[9] 9\n",
      "[36] 36\n",
      "[26] 26\n",
      "[68] 68\n",
      "[44] 44\n",
      "[86] 86\n",
      "[88] 9\n",
      "[20] 20\n",
      "[2] 2\n",
      "[54] 54\n",
      "[88] 15\n",
      "[77] 77\n",
      "[31] 31\n",
      "[88] 57\n"
     ]
    }
   ],
   "source": [
    "ind=0\n",
    "for x in M:\n",
    "    print(clf.predict([x]), N[ind])\n",
    "    ind = ind+1"
   ]
  },
  {
   "cell_type": "code",
   "execution_count": null,
   "metadata": {},
   "outputs": [],
   "source": []
  }
 ],
 "metadata": {
  "kernelspec": {
   "display_name": "Python 3",
   "language": "python",
   "name": "python3"
  },
  "language_info": {
   "codemirror_mode": {
    "name": "ipython",
    "version": 3
   },
   "file_extension": ".py",
   "mimetype": "text/x-python",
   "name": "python",
   "nbconvert_exporter": "python",
   "pygments_lexer": "ipython3",
   "version": "3.6.0"
  }
 },
 "nbformat": 4,
 "nbformat_minor": 2
}
